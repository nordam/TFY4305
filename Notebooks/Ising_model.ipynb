{
 "cells": [
  {
   "cell_type": "code",
   "execution_count": 1,
   "metadata": {
    "collapsed": true
   },
   "outputs": [],
   "source": [
    "%matplotlib inline\n",
    "import numpy as np\n",
    "from matplotlib import pyplot as plt\n",
    "plt.style.use('bmh')"
   ]
  },
  {
   "cell_type": "code",
   "execution_count": 5,
   "metadata": {
    "collapsed": true
   },
   "outputs": [],
   "source": [
    "# The functions below can be used to initialise a 2D\n",
    "# grid of spins, and then let it evolve towards a more\n",
    "# likely configuration. See further details in\n",
    "# http://web.phys.ntnu.no/~ingves/Teaching/TFY4235/Download/TFY4235_Slides_2015.pdf\n",
    "# under Metropolis Monte-Carlo algorithm.\n",
    "\n",
    "def initialise(N):\n",
    "    # This function initialises a grid of size N x N\n",
    "    # where each number is either 1 or -1\n",
    "    # (corresponding to spin up or down)\n",
    "    spins = np.ones((N, N), dtype = np.int32)\n",
    "    for i in range(N):\n",
    "        for j in range(N):\n",
    "            r = np.random.random()\n",
    "            if r < 0.5:\n",
    "                spins[i,j] = -1\n",
    "    return spins\n",
    "\n",
    "def dH(i, j, spins):\n",
    "    # This function calculates the change in energy\n",
    "    # from flipping a spin\n",
    "    Nx = spins.shape[0]\n",
    "    Ny = spins.shape[1]\n",
    "    J = 1\n",
    "    s = -spins[i,j]\n",
    "    return -J * s * (\n",
    "        spins[i-1, j] + spins[(i+1) % Nx, j] +\n",
    "        spins[i, j-1] + spins[i, (j+1) % Ny] )\n",
    "\n",
    "def sweep(spins, T):\n",
    "    # This function carries out a \"sweep\" over the grid,\n",
    "    # in the sense that it tries to flip each spin once\n",
    "    # on average, rejecting the flip with a certain probability\n",
    "    # which depends on temperature and change in energy\n",
    "    for i in range(spins.size):\n",
    "        i = np.random.randint(0, spins.shape[0])\n",
    "        j = np.random.randint(0, spins.shape[1])\n",
    "        r = np.random.random()\n",
    "        w = np.exp(-dH(i,j,spins)/T)\n",
    "        if w > r:\n",
    "            spins[i,j] = -spins[i,j]\n",
    "    return spins\n",
    "\n",
    "def average(spins):\n",
    "    return np.sum(spins) / spins.size\n",
    "\n",
    "def run(Nspins, Nsweeps, T):\n",
    "    # This function carries out one simulation:\n",
    "    # Initialise a random grid\n",
    "    # Carry out a number of sweeps, until the system\n",
    "    # can be assumed to have reached equilibrium\n",
    "    # Then return the average spin\n",
    "    # (which is proportional to the bulk magnetisation)\n",
    "    spins = initialise(Nspins)\n",
    "    for i in range(Nsweeps):\n",
    "        spins = sweep(spins, T)\n",
    "    return average(spins)"
   ]
  },
  {
   "cell_type": "code",
   "execution_count": 3,
   "metadata": {
    "collapsed": false
   },
   "outputs": [],
   "source": [
    "# Set up grid size, then run a bunch of simulations\n",
    "# for increasing temperature\n",
    "Nspins  = 30\n",
    "Nsweeps = 250\n",
    "Temps   = np.linspace(0.1, 2, 159)\n",
    "Moments = []\n",
    "for T in Temps:\n",
    "    Moments.append(run(Nspins, Nsweeps, T))"
   ]
  },
  {
   "cell_type": "code",
   "execution_count": 4,
   "metadata": {
    "collapsed": false
   },
   "outputs": [
    {
     "data": {
      "text/plain": [
       "<matplotlib.collections.PathCollection at 0x10c7ecba8>"
      ]
     },
     "execution_count": 4,
     "metadata": {},
     "output_type": "execute_result"
    },
    {
     "data": {
      "image/png": "[encoded data removed]",
      "text/plain": [
       "<matplotlib.figure.Figure at 0x10a32fa90>"
      ]
     },
     "metadata": {},
     "output_type": "display_data"
    }
   ],
   "source": [
    "# Plot of average spin agains temperature\n",
    "# reveals a pitchfork bifurcation.\n",
    "plt.scatter(Temps, Moments)"
   ]
  }
 ],
 "metadata": {
  "anaconda-cloud": {},
  "kernelspec": {
   "display_name": "Python [Root]",
   "language": "python",
   "name": "Python [Root]"
  },
  "language_info": {
   "codemirror_mode": {
    "name": "ipython",
    "version": 3
   },
   "file_extension": ".py",
   "mimetype": "text/x-python",
   "name": "python",
   "nbconvert_exporter": "python",
   "pygments_lexer": "ipython3",
   "version": "3.5.1"
  }
 },
 "nbformat": 4,
 "nbformat_minor": 0
}
