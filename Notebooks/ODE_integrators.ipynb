{
 "cells": [
  {
   "cell_type": "code",
   "execution_count": 3,
   "metadata": {
    "collapsed": true
   },
   "outputs": [],
   "source": [
    "%matplotlib inline\n",
    "import numpy as np\n",
    "from matplotlib import pyplot as plt\n",
    "plt.style.use('bmh')\n",
    "from time import time"
   ]
  },
  {
   "cell_type": "code",
   "execution_count": 47,
   "metadata": {
    "collapsed": true
   },
   "outputs": [],
   "source": [
    "def euler(t, x, h, f):\n",
    "    # x and t are coordinates\n",
    "    # h is timestep\n",
    "    # f(t, x) is a function that returns the derivative\n",
    "    \n",
    "    # \"Slopes\"\n",
    "    k1 = f(t, x)\n",
    "    # Update time and position\n",
    "    x_ = x + h*k1\n",
    "    t_ = t + h\n",
    "    \n",
    "    # Returning t, x and h to keep function signature\n",
    "    # consistent with Dormand-Prince\n",
    "    return t_, x_, h\n",
    "\n",
    "def rk4(t, x, h, f):\n",
    "    # x and t are coordinates\n",
    "    # h is timestep\n",
    "    # f(t, x) is a function that returns the derivative\n",
    "\n",
    "    # Defining this in a more verbose way than usual,\n",
    "    # to keep it consistent with the Dormand-Prince method\n",
    "    # Nodes\n",
    "    c1  = 0.\n",
    "    c2  = 1./2.\n",
    "    c3  = 1./2.\n",
    "    c4  = 1.\n",
    "    # Matrix elements\n",
    "    a21 = 1./2.\n",
    "    a31 = 0.\n",
    "    a32 = 1./2.\n",
    "    a41 = 0.\n",
    "    a42 = 0.\n",
    "    a43 = 1.\n",
    "    # Weights\n",
    "    b1  = 1./6.\n",
    "    b2  = 2./6.\n",
    "    b3  = 2./6.\n",
    "    b4  = 1./6.\n",
    "    # \"Slopes\"\n",
    "    k1  = f(t + c1*h, x)\n",
    "    k2  = f(t + c2*h, x + a21*h*k1)\n",
    "    k3  = f(t + c3*h, x + a31*h*k1 + a32*h*k2)\n",
    "    k4  = f(t + c4*h, x + a41*h*k1 + a42*h*k2 + a43*h*k3)\n",
    "    # Update time and position\n",
    "    x_  = x + h*(b1*k1 + b2*k2 + b3*k3 + b4*k4)\n",
    "    t_  = t + h\n",
    "    \n",
    "    # Returning t, x and h to keep function signature\n",
    "    # consistent with Dormand-Prince\n",
    "    return t_, x_, h\n",
    "\n",
    "def dopri5(t, x, h, f, atol = 1e-6, rtol = 1e-9):\n",
    "    # x and t are coordinates\n",
    "    # h is timestep\n",
    "    # f(t, x) is a function that returns the derivative\n",
    "    \n",
    "    # Nodes\n",
    "    c1  =  0\n",
    "    c2  =  1./5.\n",
    "    c3  =  3./10.\n",
    "    c4  =  4./5.\n",
    "    c5  =  8./9.\n",
    "    c6  =  1.\n",
    "    c7  =  1.\n",
    "    # Matrix elements\n",
    "    a21 =  1./5.\n",
    "    a31 =  3./40.\n",
    "    a32 =  9./40.\n",
    "    a41 =  44./45.\n",
    "    a42 = -56./15.\n",
    "    a43 =  32./9.\n",
    "    a51 =  19372./6561.\n",
    "    a52 = -25360./2187.\n",
    "    a53 =  64448./6561.\n",
    "    a54 = -212./729.\n",
    "    a61 =  9017./3168.\n",
    "    a62 = -355./33.\n",
    "    a63 =  46732./5247.\n",
    "    a64 =  49./176.\n",
    "    a65 = -5103./18656.\n",
    "    a71 =  35./384.\n",
    "    a72 =  0.\n",
    "    a73 =  500./1113.\n",
    "    a74 =  125./192.\n",
    "    a75 = -2187./6784.\n",
    "    a76 =  11./84.\n",
    "    # Fourth order weights\n",
    "    b41 =  35./384.\n",
    "    b42 =  0.\n",
    "    b43 =  500./1113.\n",
    "    b44 =  125./192.\n",
    "    b45 = -2187./6784.\n",
    "    b46 =  11./84.\n",
    "    b47 =  0.\n",
    "    # Fifth order weights\n",
    "    b51 =  5179./57600.\n",
    "    b52 =  0.\n",
    "    b53 =  7571./16695.\n",
    "    b54 =  393./640.\n",
    "    b55 = -92097./339200.\n",
    "    b56 =  187./2100.\n",
    "    b57 =  1./40.\n",
    "    \n",
    "    # \"Slopes\"\n",
    "    k1  = f(t + c1*h, x)\n",
    "    k2  = f(t + c2*h, x + a21*h*k1)\n",
    "    k3  = f(t + c3*h, x + a31*h*k1 + a32*h*k2)\n",
    "    k4  = f(t + c4*h, x + a41*h*k1 + a42*h*k2 + a43*h*k3)\n",
    "    k5  = f(t + c5*h, x + a51*h*k1 + a52*h*k2 + a53*h*k3 + a54*h*k4)\n",
    "    k6  = f(t + c6*h, x + a61*h*k1 + a62*h*k2 + a63*h*k3 + a64*h*k4 + a65*h*k5)\n",
    "    k7  = f(t + c7*h, x + a71*h*k1 + a72*h*k2 + a73*h*k3 + a74*h*k4 + a75*h*k5 + a76*h*k6)\n",
    "\n",
    "    # Calculate fourth and fifth order prediction of new point\n",
    "    x4  = x + h*(k1*b41 + k2*b42 + k3*b43 + k4*b44 + k5*b45 + k6*b46 + k7*b47)\n",
    "    x5  = x + h*(k1*b51 + k2*b52 + k3*b53 + k4*b54 + k5*b55 + k6*b56 + k7*b57)\n",
    "    \n",
    "    # Implementing error checking and variable stepsize roughly as in\n",
    "    # Hairer, Nørsett and Wanner:\n",
    "    # Solving ordinary differential equations I -- Nonstiff problems\n",
    "    # pages 167 and 168 in the 2008 printing\n",
    "\n",
    "    # these are 4th and 5th order methods, q = min(4, 5)\n",
    "#    print(x, x4, x5, t)\n",
    "    q   = 4.\n",
    "    sc  = np.maximum(np.abs(x4), np.abs(x5)) * rtol + atol\n",
    "    err = np.amax(np.sqrt(((x4 - x5) / sc)**2))\n",
    "    # parameters limiting change in timestep\n",
    "    fac    = 0.8\n",
    "    maxfac = 2\n",
    "    if err <= 1.0:\n",
    "        # Step is accepted:\n",
    "        # Use fifth order result as next position\n",
    "        x_ = x5\n",
    "        t_ = t + h\n",
    "        # Calculating optimal h\n",
    "        # If err happens to be 0 (can happen, depending on problem)\n",
    "        # then hopt = Infinity. Set a cap of some sort.\n",
    "        if err == 0.0:\n",
    "            h_opt = 10\n",
    "        else:\n",
    "            h_opt = h * (1./err) ** (1./(q+1.))\n",
    "        # Increase steplength\n",
    "        h_ = max(maxfac * h, fac * h_opt)\n",
    "    else:\n",
    "        # Step is rejected:\n",
    "        # Position and time is not updated\n",
    "        x_ = x\n",
    "        t_ = t\n",
    "        # Calculating optimal h\n",
    "        h_opt = h * (1./err) ** (1./(q+1.))\n",
    "        # Decrease steplength\n",
    "        h_   = fac * h_opt\n",
    "    return t_, x_, h_\n"
   ]
  },
  {
   "cell_type": "code",
   "execution_count": 3,
   "metadata": {
    "collapsed": true
   },
   "outputs": [],
   "source": [
    "def get_trajectory(f, integrator, t_max, h0, x0 = 1, t0 = 0, **kwargs):\n",
    "    Xs = [x0]\n",
    "    Ts = [t0]\n",
    "    t  = t0\n",
    "    x  = x0\n",
    "    h  = h0\n",
    "    while t < t_max:\n",
    "        # Make sure you don't step past t_max\n",
    "        if t_max - t < h:\n",
    "            h = t_max - t\n",
    "        t_, x_, h = integrator(t, x, h, f, **kwargs)\n",
    "        # Check if the step was accepted.\n",
    "        # (Dopri will reject a step if the error is too large)\n",
    "        if t_ > t:\n",
    "            t = t_\n",
    "            x = x_\n",
    "            Xs.append(x)\n",
    "            Ts.append(t)\n",
    "    return Ts, Xs\n",
    "\n",
    "def get_endpoint(f, integrator, t_max, h0, x0 = 1, t0 = 0, **kwargs):\n",
    "    t  = t0\n",
    "    x  = x0\n",
    "    h  = h0\n",
    "    while t < t_max:\n",
    "        # Make sure you don't step past t_max\n",
    "        if t_max - t < h:\n",
    "            h = t_max - t\n",
    "        t_, x_, h = integrator(t, x, h, f, **kwargs)\n",
    "        # Check if the step was accepted.\n",
    "        # (Dopri will reject a step if the error is too large)\n",
    "        if t_ > t:\n",
    "            t = t_\n",
    "            x = x_\n",
    "    return t, x"
   ]
  },
  {
   "cell_type": "code",
   "execution_count": 4,
   "metadata": {
    "collapsed": false
   },
   "outputs": [
    {
     "data": {
      "text/plain": [
       "[<matplotlib.lines.Line2D at 0x10ab40e48>]"
      ]
     },
     "execution_count": 4,
     "metadata": {},
     "output_type": "execute_result"
    },
    {
     "data": {
      "image/png": "[encoded data removed]",
      "text/plain": [
       "<matplotlib.figure.Figure at 0x10a71e9b0>"
      ]
     },
     "metadata": {},
     "output_type": "display_data"
    }
   ],
   "source": [
    "# Test problem\n",
    "def f(t, x):\n",
    "    # Logistic equation\n",
    "    R = 1\n",
    "    K = 100\n",
    "    return R*x*(1 - x/K)\n",
    "\n",
    "# Get the trajectory, using Runge-Kutta and a fairly short timestep\n",
    "Ts, Xs = get_trajectory(f, rk4, t_max = 10, h0 = 1e-4, x0 = 1, t0 = 0)\n",
    "plt.plot(Ts, Xs)"
   ]
  },
  {
   "cell_type": "code",
   "execution_count": 22,
   "metadata": {
    "collapsed": false
   },
   "outputs": [
    {
     "data": {
      "text/plain": [
       "<matplotlib.legend.Legend at 0x11003ec50>"
      ]
     },
     "execution_count": 22,
     "metadata": {},
     "output_type": "execute_result"
    },
    {
     "data": {
      "image/png": "[encoded data removed]",
      "text/plain": [
       "<matplotlib.figure.Figure at 0x10f6fee80>"
      ]
     },
     "metadata": {},
     "output_type": "display_data"
    }
   ],
   "source": [
    "# To compare integrators, we wil run with the above test function,\n",
    "# until t_max = 6\n",
    "\n",
    "# First, we compare the performance of Euler and Runge-Kutta\n",
    "# by plotting 'error' as a function of timestep.\n",
    "# Here, we define 'error' as the difference between the endpoint\n",
    "# for a given timestep and the shortest timestep tested\n",
    "\n",
    "timesteps = np.logspace(-4, 0, 15)\n",
    "\n",
    "X_E  = []\n",
    "X_RK = []\n",
    "for h in timesteps:\n",
    "    t, x = get_endpoint(f, euler, t_max = 6, h0 = h, x0 = 1, t0 = 0)\n",
    "    X_E.append(x)\n",
    "    t, x = get_endpoint(f, rk4, t_max = 6, h0 = h, x0 = 1, t0 = 0)\n",
    "    X_RK.append(x)\n",
    "    \n",
    "X_E  = np.array(X_E)\n",
    "X_RK = np.array(X_RK)\n",
    "l, = plt.plot(timesteps, 15.0*timesteps**1, lw = 1)\n",
    "plt.scatter(timesteps[1:], abs(X_E[1:] - X_E[0]), label = 'Euler', c = l.get_color())\n",
    "l, = plt.plot(timesteps, 0.20*timesteps**4, lw = 1)\n",
    "plt.scatter(timesteps[1:], abs(X_RK[1:] - X_RK[0]), label = 'Runge-Kutta', c = l.get_color())\n",
    "plt.xscale('log')\n",
    "plt.yscale('log')\n",
    "plt.xlim(1e-5, 10)\n",
    "plt.ylim(1e-12, 100)\n",
    "plt.legend(loc = 'lower right')"
   ]
  },
  {
   "cell_type": "code",
   "execution_count": 27,
   "metadata": {
    "collapsed": false
   },
   "outputs": [
    {
     "data": {
      "text/plain": [
       "<matplotlib.legend.Legend at 0x110f190b8>"
      ]
     },
     "execution_count": 27,
     "metadata": {},
     "output_type": "execute_result"
    },
    {
     "data": {
      "image/png": "[encoded data removed]",
      "text/plain": [
       "<matplotlib.figure.Figure at 0x110f19710>"
      ]
     },
     "metadata": {},
     "output_type": "display_data"
    }
   ],
   "source": [
    "# Then, we run Dormand-Prince with different tolerances,\n",
    "# and again calculate the 'error' relative to the most accurate result\n",
    "\n",
    "tolerances = np.logspace(-16, -3, 10)\n",
    "\n",
    "X_DP = np.zeros(len(tolerances))\n",
    "for i, tol in enumerate(tolerances):\n",
    "    t, x = get_endpoint(f, dopri5, t_max = 6, h0 = 1e-3, x0 = 1, t0 = 0, atol = tol, rtol = tol)\n",
    "    X_DP[i] = x\n",
    "\n",
    "plt.scatter(tolerances[1:], abs(X_DP[1:] - X_DP[0]), label = 'Dormand-Prince')\n",
    "plt.xscale('log')\n",
    "plt.yscale('log')\n",
    "plt.xlim(1e-16, 1e-2)\n",
    "plt.ylim(1e-12, 1e0)\n",
    "plt.legend(loc = 'lower right')"
   ]
  },
  {
   "cell_type": "markdown",
   "metadata": {
    "collapsed": false
   },
   "source": [
    "## Comparison of time\n",
    "\n",
    "Based on the above, we can conclude that in order to get an error of about $10^{-2}$ in the final position, we need a steplength of about $h=5\\cdot10^{-4}$ for the Euler integrator, about $h = 4\\cdot 10^{-1}$ for Runge-Kutta, and we need to set a tolerance of about $10^{-4}$ for the Dormand-Prince integrator.\n",
    "\n",
    "For a smaller error, for example $10^{-9}$, the Euler integrator probably won't be able to deliver no matter how short the timestep, due to accumulation of numerical error. To get this precision with the Runge-Kutta integrator, we need a step length of about $h= 6\\cdot10^{-3}$, and for Dormand-Prince we need a tolerance of about $5 \\cdot 10^{-13}$."
   ]
  },
  {
   "cell_type": "code",
   "execution_count": 32,
   "metadata": {
    "collapsed": false
   },
   "outputs": [
    {
     "name": "stdout",
     "output_type": "stream",
     "text": [
      "Euler, 12002 steps, 0.02181410789489746 seconds\n",
      "Runge-Kutta, 16 steps, 0.0007688999176025391 seconds\n",
      "Dormand-prince, 9 steps, 0.0005540847778320312 seconds\n"
     ]
    }
   ],
   "source": [
    "# Comparison of all three integrators\n",
    "tic = time()\n",
    "Ts, Xs = get_trajectory(f, euler, t_max = 6, h0 = 5e-4, x0 = 1, t0 = 0)\n",
    "toc = time()\n",
    "print('Euler, %s steps, %s seconds' % (len(Ts), toc - tic))\n",
    "\n",
    "tic = time()\n",
    "Ts, Xs = get_trajectory(f, rk4, t_max = 6, h0 = 4e-1, x0 = 1, t0 = 0)\n",
    "toc = time()\n",
    "print('Runge-Kutta, %s steps, %s seconds' % (len(Ts), toc - tic))\n",
    "\n",
    "tic = time()\n",
    "Ts, Xs = get_trajectory(f, dopri5, t_max = 6, h0 = 1e-3, x0 = 1, t0 = 0, atol = 1e-4, rtol = 1e-4)\n",
    "toc = time()\n",
    "print('Dormand-prince, %s steps, %s seconds' % (len(Ts), toc - tic))"
   ]
  },
  {
   "cell_type": "code",
   "execution_count": 49,
   "metadata": {
    "collapsed": false
   },
   "outputs": [
    {
     "name": "stdout",
     "output_type": "stream",
     "text": [
      "Runge-Kutta, 151 steps, 0.0007231235504150391 seconds\n",
      "Dormand-prince, 65 steps, 0.0030951499938964844 seconds\n"
     ]
    }
   ],
   "source": [
    "# Comparison of Runge-Kutta and Dormand-Prince\n",
    "tic = time()\n",
    "Ts, Xs = get_trajectory(f, rk4, t_max = 6, h0 = 4e-2, x0 = 1, t0 = 0)\n",
    "toc = time()\n",
    "print('Runge-Kutta, %s steps, %s seconds' % (len(Ts), toc - tic))\n",
    "\n",
    "tic = time()\n",
    "Ts, Xs = get_trajectory(f, dopri5, t_max = 6, h0 = 1e-2, x0 = 1, t0 = 0, atol = 2e-9, rtol = 2e-9)\n",
    "toc = time()\n",
    "print('Dormand-prince, %s steps, %s seconds' % (len(Ts), toc - tic))"
   ]
  },
  {
   "cell_type": "markdown",
   "metadata": {
    "collapsed": true
   },
   "source": [
    "## Restricted thee-body problem\n",
    "\n",
    "See Hairer, Wanner & Nørsett, *Solving Ordinary Differential Equations I: Nonstiff problems*."
   ]
  },
  {
   "cell_type": "code",
   "execution_count": 21,
   "metadata": {
    "collapsed": true
   },
   "outputs": [],
   "source": [
    "def f(t, x):\n",
    "    mu  = 0.012277471\n",
    "    mu_ = 1 - mu\n",
    "    D1  = ((x[1] + mu )**2 + x[3]**2)**(3/2)\n",
    "    D2  = ((x[1] - mu_)**2 + x[3]**2)**(3/2)\n",
    "    dx  = np.zeros(4)\n",
    "    dx[0] = x[1] + 2*x[2] - mu_*(x[1] + mu)/D1 - mu*(x[1] - mu_)/D2\n",
    "    dx[1] = x[0]\n",
    "    dx[2] = x[3] - 2*x[0] - mu_*x[3]/D1        - mu*x[3]/D2\n",
    "    dx[3] = x[2]\n",
    "    return dx"
   ]
  },
  {
   "cell_type": "code",
   "execution_count": 61,
   "metadata": {
    "collapsed": false
   },
   "outputs": [
    {
     "data": {
      "text/plain": [
       "(-1.2, 1.2)"
      ]
     },
     "execution_count": 61,
     "metadata": {},
     "output_type": "execute_result"
    },
    {
     "data": {
      "image/png": "[encoded data removed]",
      "text/plain": [
       "<matplotlib.figure.Figure at 0x10dc1ff60>"
      ]
     },
     "metadata": {},
     "output_type": "display_data"
    }
   ],
   "source": [
    "# Initial values\n",
    "x0 = np.array([\n",
    "        0.0,\n",
    "        0.994,\n",
    "        -2.00158510637908252240537862224,\n",
    "        0.0\n",
    "    ])\n",
    "Tmax = 2*17.06521656\n",
    "dt   = 3e-4\n",
    "Nt   = int(Tmax / dt)\n",
    "\n",
    "X = np.zeros((4, Nt + 2))\n",
    "X[:,0] = x0\n",
    "t = 0\n",
    "i = 0\n",
    "while t <= Tmax:\n",
    "    t_, x_, h_ = rk4(t, X[:,i], dt, f)\n",
    "    X[:,i+1] = x_\n",
    "    t = t_\n",
    "    i += 1\n",
    "    \n",
    "plt.plot(X[1,:], X[3,:])\n",
    "plt.xlim(-1.5, 1.5)\n",
    "plt.ylim(-1.2, 1.2)"
   ]
  },
  {
   "cell_type": "code",
   "execution_count": 62,
   "metadata": {
    "collapsed": false
   },
   "outputs": [
    {
     "data": {
      "text/plain": [
       "(-1.2, 1.2)"
      ]
     },
     "execution_count": 62,
     "metadata": {},
     "output_type": "execute_result"
    },
    {
     "data": {
      "image/png": "[encoded data removed]",
      "text/plain": [
       "<matplotlib.figure.Figure at 0x10ef5d828>"
      ]
     },
     "metadata": {},
     "output_type": "display_data"
    }
   ],
   "source": [
    "# Initial values\n",
    "x0 = np.array([\n",
    "        0.0,\n",
    "        0.994,\n",
    "        -2.00158510637908252240537862224,\n",
    "        0.0\n",
    "    ])\n",
    "Tmax = 2*17.06521656\n",
    "dt   = 1e-3\n",
    "Nt   = int(Tmax / dt)\n",
    "\n",
    "X = np.zeros((4, Nt + 2))\n",
    "X[:,0] = x0\n",
    "t = 0\n",
    "i = 0\n",
    "while t <= Tmax:\n",
    "    t_, x_, dt = dopri5(t, X[:,i], dt, f, atol = 1e-9, rtol = 1e-9)\n",
    "    if t_ > t:\n",
    "        X[:,i+1] = x_\n",
    "        t = t_\n",
    "        i += 1\n",
    "plt.plot(X[1,:i], X[3,:i])\n",
    "plt.xlim(-1.5, 1.5)\n",
    "plt.ylim(-1.2, 1.2)"
   ]
  },
  {
   "cell_type": "code",
   "execution_count": null,
   "metadata": {
    "collapsed": true
   },
   "outputs": [],
   "source": []
  }
 ],
 "metadata": {
  "anaconda-cloud": {},
  "kernelspec": {
   "display_name": "Python [Root]",
   "language": "python",
   "name": "Python [Root]"
  },
  "language_info": {
   "codemirror_mode": {
    "name": "ipython",
    "version": 3
   },
   "file_extension": ".py",
   "mimetype": "text/x-python",
   "name": "python",
   "nbconvert_exporter": "python",
   "pygments_lexer": "ipython3",
   "version": "3.5.1"
  }
 },
 "nbformat": 4,
 "nbformat_minor": 0
}
